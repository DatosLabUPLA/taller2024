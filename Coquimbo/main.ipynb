{
 "cells": [
  {
   "cell_type": "code",
   "execution_count": 24,
   "id": "2122afa0",
   "metadata": {},
   "outputs": [],
   "source": [
    "import bs4\n",
    "from urllib.request import urlopen as uReq\n",
    "from bs4 import BeautifulSoup as soup\n",
    "import ssl\n",
    "import json\n",
    "import os\n",
    "from datetime import date"
   ]
  },
  {
   "cell_type": "code",
   "execution_count": 4,
   "id": "38204889",
   "metadata": {},
   "outputs": [],
   "source": [
    "data = {}\n",
    "data['Trámites ante el organismo'] = []"
   ]
  },
  {
   "cell_type": "code",
   "execution_count": 5,
   "id": "2aef7613",
   "metadata": {},
   "outputs": [],
   "source": [
    "ssl._create_default_https_context = ssl._create_unverified_context\n",
    "\n",
    "my_url = 'https://www.portaltransparencia.cl/PortalPdT/directorio-de-organismos-regulados/?org=AO067'\n",
    "uClient = uReq(my_url)\n",
    "page_html = uClient.read()\n",
    "uClient.close()"
   ]
  },
  {
   "cell_type": "code",
   "execution_count": 6,
   "id": "1c873207",
   "metadata": {},
   "outputs": [
    {
     "data": {
      "text/plain": [
       "[]"
      ]
     },
     "execution_count": 6,
     "metadata": {},
     "output_type": "execute_result"
    }
   ],
   "source": [
    "page_soup = soup(page_html, 'html.parser')\n",
    "\n",
    "containers = page_soup.find_all(\"div\", {\"class\":\"table-responsive-lg\"})\n",
    "containers\n",
    "#contain = containers[0]"
   ]
  },
  {
   "cell_type": "code",
   "execution_count": 44,
   "id": "17d050ba",
   "metadata": {},
   "outputs": [],
   "source": [
    "for contain in containers:\n",
    "    links = contain.find_all(\"div\", {\"class\": \"ui-datatable-tablewrapper\"})[0].find_all(\"a\",{\"class\": \"noselect\"})[0]\n",
    "    nombre = links.find_all(\"span\", {\"class\": \"x\"})[0].text\n",
    "    descripcion = links.find_all(\"span\", {\"class\": \"x\"})[0].text\n",
    "    requisitos = links.find_all(\"span\", {\"class\": \"x\"})[0].text\n",
    "    tramites_linea = links.find_all(\"span\", {\"class\": \"x\"})[0].text\n",
    "    tramites_realizar  = links.find_all(\"span\", {\"class\": \"x\"})[0].text\n",
    "    valor  = links.find_all(\"span\", {\"class\": \"x\"})[0].text\n",
    "    lugar  = links.find_all(\"span\", {\"class\": \"x\"})[0].text\n",
    "    informacion  = links.find_all(\"span\", {\"class\": \"x\"})[0].text\n",
    "    print(\"Nombre del trámite o servicio: \" + nombre + \" | Descripción del servicio: \" + descripcion + \n",
    "          \" | Requisitos y antecedentes: \" + requisitos+ \" | Trámites en línea: \" + tramites_linea + \n",
    "          \" | Trámites a realizar o etapas: \" + tramites_realizar + \" | Valor: \" + valor + \n",
    "          \" | Lugar donde se realiza: \" + lugar + \" | Información complementaria: \" + informacion)\n",
    "     \n",
    "    data['Trámites ante el organismo'].append({\n",
    "        'Nombre del trámite o servicio': nombre,\n",
    "        'Descripción del servicio': descripcion,  \n",
    "        'Requisitos y antecedentes' : requisitos,\n",
    "        'Trámites en línea': tramites_linea,\n",
    "        'Trámites a realizar o etapas': tramites_realizar,  \n",
    "        'Valor' : valor,\n",
    "        'Lugar donde se realiza': lugar,  \n",
    "        'Información complementaria' : informacion,\n",
    "        })  \n",
    "    \n",
    "dire = os.path.dirname(os.path.abspath('__file__')) + '/data'\n",
    "\n",
    "with open(os.path.join(dire, 'DATA.json'), 'a',encoding=\"utf-8\") as file:\n",
    "     json.dump(data, file, indent=3, ensure_ascii=False)"
   ]
  },
  {
   "cell_type": "code",
   "execution_count": 43,
   "id": "a0b36587",
   "metadata": {},
   "outputs": [],
   "source": [
    "today = date.today()\n",
    "\n",
    "file = open('registro.log', 'a')\n",
    "file.write(str(today))\n",
    "file.write('\\n')\n",
    "file.close()"
   ]
  },
  {
   "cell_type": "code",
   "execution_count": null,
   "id": "b4e634e8",
   "metadata": {},
   "outputs": [],
   "source": []
  },
  {
   "cell_type": "code",
   "execution_count": null,
   "id": "1dacf48e",
   "metadata": {},
   "outputs": [],
   "source": []
  }
 ],
 "metadata": {
  "kernelspec": {
   "display_name": "Python 3 (ipykernel)",
   "language": "python",
   "name": "python3"
  },
  "language_info": {
   "codemirror_mode": {
    "name": "ipython",
    "version": 3
   },
   "file_extension": ".py",
   "mimetype": "text/x-python",
   "name": "python",
   "nbconvert_exporter": "python",
   "pygments_lexer": "ipython3",
   "version": "3.10.9"
  }
 },
 "nbformat": 4,
 "nbformat_minor": 5
}
