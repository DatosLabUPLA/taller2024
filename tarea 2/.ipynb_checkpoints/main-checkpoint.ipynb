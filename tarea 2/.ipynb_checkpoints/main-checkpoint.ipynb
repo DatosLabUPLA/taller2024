{
 "cells": [
  {
   "cell_type": "markdown",
   "id": "73c9a199-9c90-4dc9-9e74-cd48ef15fda6",
   "metadata": {},
   "source": [
    "aqui empieza"
   ]
  },
  {
   "cell_type": "code",
   "execution_count": 122,
   "id": "618095a5-b778-4829-8291-6a640e67c525",
   "metadata": {},
   "outputs": [
    {
     "name": "stdout",
     "output_type": "stream",
     "text": [
      "Archivos guardados en la carpeta DATA: DATA\\pokemon.csv, DATA\\pokemon_log.log\n"
     ]
    }
   ],
   "source": [
    "import os\n",
    "import requests\n",
    "import pandas as pd\n",
    "from bs4 import BeautifulSoup\n",
    "import datetime\n",
    "\n",
    "# Obtener la fecha y hora actual\n",
    "now = datetime.datetime.now()\n",
    "\n",
    "timestamp = now.strftime(\"%Y-%m-%d %H:%M:%S\")\n",
    "\n",
    "\n",
    "url = 'https://pokemondb.net/pokedex/all'\n",
    "r = requests.get(url)\n",
    "\n",
    "# Verificar si la solicitud fue exitosa (código de estado 200)\n",
    "if r.status_code == 200:\n",
    "    # Analizar el HTML de la página\n",
    "    soup = BeautifulSoup(r.content, 'html.parser')\n",
    "\n",
    "    rows = soup.find('table', attrs={\"id\": \"pokedex\"}).find('tbody').find_all('tr')\n",
    "\n",
    "    names = []\n",
    "    types = []\n",
    "    total = []\n",
    "    hp = []\n",
    "    attack = []\n",
    "    Defense = []\n",
    "    SpAtk = []\n",
    "    SpDef = []\n",
    "    Speed = []\n",
    "    for row in rows:\n",
    "        names.append(row.find_all('td')[1].get_text())\n",
    "        types.append(row.find_all('td')[2].get_text())\n",
    "        total.append(row.find_all('td')[3].get_text())\n",
    "        hp.append(row.find_all('td')[4].get_text())\n",
    "        attack.append(row.find_all('td')[5].get_text())\n",
    "        Defense.append(row.find_all('td')[6].get_text())\n",
    "        SpAtk.append(row.find_all('td')[7].get_text())\n",
    "        SpDef.append(row.find_all('td')[8].get_text())\n",
    "        Speed.append(row.find_all('td')[9].get_text())\n",
    "\n",
    "    df = pd.DataFrame({\"names\": names, \"types\": types, \"total\": total, \"hp\": hp, \"attack\": attack,\n",
    "                       \"Defense\": Defense, \"SpAtk\": SpAtk, \"SpDef\": SpDef, \"Speed\": Speed})\n",
    "\n",
    "    # Carpeta donde se guardará \n",
    "    folder_path = 'DATA'\n",
    "\n",
    "    # Verificar si la carpeta no existe y crearla si es necesario\n",
    "    if not os.path.exists(folder_path):\n",
    "        os.makedirs(folder_path)\n",
    "\n",
    "    # Nombre del archivo CSV\n",
    "    csv_file = 'pokemon.csv'\n",
    "\n",
    "    # Ruta completa del archivo CSV\n",
    "    csv_file_path = os.path.join(folder_path, csv_file)\n",
    "\n",
    "    # Guardar el DataFrame en un archivo CSV\n",
    "    df.to_csv(csv_file_path, index=False)\n",
    "\n",
    "    # Nombre del archivo de registro (.log)\n",
    "    log_file = 'pokemon_log.log'\n",
    "\n",
    "    # Ruta completa del archivo de registro (.log)\n",
    "    log_file_path = os.path.join(folder_path, log_file)\n",
    "\n",
    "    # Abrir el archivo de registro (.log) en modo escritura\n",
    "    with open(log_file_path, 'w') as log:\n",
    "        # Escribir la fecha de ejecución y otra información relevante en el archivo de registro (.log)\n",
    "        log.write(f'Fecha de ejecución: {timestamp}\\n')\n",
    "        log.write(f'Archivo CSV guardado como: {csv_file_path}\\n')\n",
    "\n",
    "    print(f'Archivos guardados en la carpeta DATA: {csv_file_path}, {log_file_path}')\n",
    "else:\n",
    "    print('Error al obtener la página:', r.status_code)\n"
   ]
  },
  {
   "cell_type": "code",
   "execution_count": null,
   "id": "5236e4b9-4bcc-4801-a84f-40a6d971462d",
   "metadata": {},
   "outputs": [],
   "source": []
  }
 ],
 "metadata": {
  "kernelspec": {
   "display_name": "Python 3 (ipykernel)",
   "language": "python",
   "name": "python3"
  },
  "language_info": {
   "codemirror_mode": {
    "name": "ipython",
    "version": 3
   },
   "file_extension": ".py",
   "mimetype": "text/x-python",
   "name": "python",
   "nbconvert_exporter": "python",
   "pygments_lexer": "ipython3",
   "version": "3.11.7"
  }
 },
 "nbformat": 4,
 "nbformat_minor": 5
}
