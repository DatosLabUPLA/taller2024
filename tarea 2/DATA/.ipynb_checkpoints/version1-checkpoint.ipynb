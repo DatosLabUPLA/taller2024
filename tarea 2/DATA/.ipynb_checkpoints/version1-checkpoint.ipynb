{
 "cells": [
  {
   "cell_type": "code",
   "execution_count": null,
   "id": "c42819b5-7b26-4010-a61b-a9ea2ca6c563",
   "metadata": {},
   "outputs": [],
   "source": [
    "import os\n",
    "import requests\n",
    "from bs4 import BeautifulSoup\n",
    "import datetime\n",
    "import pandas as pd"
   ]
  },
  {
   "cell_type": "code",
   "execution_count": null,
   "id": "b9917a60-7d9b-4b53-af35-7586fd018802",
   "metadata": {},
   "outputs": [],
   "source": [
    "url =\"https://pokemondb.net/pokedex/all\"\n",
    "r= requests.get(url)\n",
    "#r.content\n",
    "soup =  BeautifulSoup(r.content,'html.parser')"
   ]
  },
  {
   "cell_type": "code",
   "execution_count": null,
   "id": "3286046f-857c-48ee-9f4e-002e851d5243",
   "metadata": {},
   "outputs": [],
   "source": [
    "rows= soup.find('table', attrs={\"id\":\"pokedex\"}).find('tbody').find_all('tr')"
   ]
  },
  {
   "cell_type": "code",
   "execution_count": null,
   "id": "1034df8c-08b6-45dd-903a-f186544fde9e",
   "metadata": {},
   "outputs": [],
   "source": [
    "rows[0].find_all('td')[1].get_text() \n",
    "rows[0].find_all('td')[2].get_text()"
   ]
  },
  {
   "cell_type": "code",
   "execution_count": null,
   "id": "80cdfd79-f4cf-4e12-ba02-514e7c113666",
   "metadata": {},
   "outputs": [],
   "source": [
    "names=[]\n",
    "types=[]\n",
    "total=[]\n",
    "hp=[]\n",
    "attack=[]\n",
    "Defense=[]\n",
    "SpAtk=[]\n",
    "SpDef=[]\n",
    "Speed=[]\n",
    "for row in rows:\n",
    "    names.append(row.find_all('td')[1].get_text())\n",
    "    types.append(row.find_all('td')[2].get_text())\n",
    "    total.append(row.find_all('td')[3].get_text())\n",
    "    hp.append(row.find_all('td')[4].get_text())\n",
    "    attack.append(row.find_all('td')[5].get_text())\n",
    "    Defense.append(row.find_all('td')[6].get_text())\n",
    "    SpAtk.append(row.find_all('td')[7].get_text())\n",
    "    SpDef.append(row.find_all('td')[8].get_text())\n",
    "    Speed.append(row.find_all('td')[9].get_text())"
   ]
  },
  {
   "cell_type": "code",
   "execution_count": null,
   "id": "72c34c72-9805-420d-b2ac-9592b98709d9",
   "metadata": {},
   "outputs": [],
   "source": [
    "#len(names)\n",
    "#hp"
   ]
  },
  {
   "cell_type": "code",
   "execution_count": null,
   "id": "e4542b5a-1136-42ba-934f-42b5e1787560",
   "metadata": {},
   "outputs": [],
   "source": [
    "df= pd.DataFrame({\"names\":names,\"types\":types,\"total\":total,\"hp\":hp,\"attack\":attack,\n",
    "                 \"Defense\":Defense,\"SpAtk\":SpAtk,\"SpDef\":SpDef,\"Speed\":Speed})"
   ]
  },
  {
   "cell_type": "code",
   "execution_count": null,
   "id": "4705a5a9-a6b9-4ea4-86f0-428459105ad6",
   "metadata": {},
   "outputs": [],
   "source": [
    "df"
   ]
  },
  {
   "cell_type": "code",
   "execution_count": null,
   "id": "7e0a9748-7348-4228-bb0b-750d06c0ee99",
   "metadata": {},
   "outputs": [],
   "source": [
    "df.to_csv('pokemon.csv')"
   ]
  }
 ],
 "metadata": {
  "kernelspec": {
   "display_name": "",
   "name": ""
  },
  "language_info": {
   "name": ""
  }
 },
 "nbformat": 4,
 "nbformat_minor": 5
}
