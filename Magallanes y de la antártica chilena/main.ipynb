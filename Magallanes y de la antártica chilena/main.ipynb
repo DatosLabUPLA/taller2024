{
 "cells": [
  {
   "cell_type": "code",
   "execution_count": 21,
   "id": "7549608b-3d90-4e63-8c6e-6b018fea5298",
   "metadata": {},
   "outputs": [],
   "source": [
    "import pandas as pd\n",
    "import numpy as np\n",
    "import requests\n",
    "from bs4 import BeautifulSoup\n",
    "from datetime import datetime"
   ]
  },
  {
   "cell_type": "code",
   "execution_count": 22,
   "id": "353f2492-dabd-4ca0-bb88-9ea10a4e14c7",
   "metadata": {},
   "outputs": [],
   "source": [
    "url_base = \"https://www.portaltransparencia.cl/PortalPdT/directorio-de-organismos-regulados/\"\n",
    "codigo_organismo = \"MU017\""
   ]
  },
  {
   "cell_type": "code",
   "execution_count": 23,
   "id": "1dd7ef7d-9b57-4012-8364-51beb92fe888",
   "metadata": {},
   "outputs": [
    {
     "name": "stdout",
     "output_type": "stream",
     "text": [
      "Error al obtener la información. Código: 403\n"
     ]
    }
   ],
   "source": [
    "# Petición a la URL\n",
    "response = requests.get(url_base + \"?org=\" + codigo_organismo)\n",
    "\n",
    "# Verificación de éxito\n",
    "if response.status_code == 200:\n",
    "    # Parseo del HTML\n",
    "    soup = BeautifulSoup(response.content, \"html.parser\")\n",
    "\n",
    "    # Extracción de información\n",
    "    nombre_organismo = soup.find(\"h1\", class_=\"titulo-principal\").text.strip()\n",
    "    sectores_regulados = [sector.text.strip() for sector in soup.find_all(\"span\", class_=\"sector-regulado\")]\n",
    "    informacion_adicional = soup.find(\"div\", class_=\"informacion-adicional\").text.strip()\n",
    "\n",
    "    # Impresión de resultados\n",
    "    print(\"Nombre del Organismo:\", nombre_organismo)\n",
    "    print(\"Sectores Regulados:\", sectores_regulados)\n",
    "    print(\"Información Adicional:\", informacion_adicional)\n",
    "else:\n",
    "    print(\"Error al obtener la información. Código:\", response.status_code)"
   ]
  },
  {
   "cell_type": "code",
   "execution_count": 24,
   "id": "0554512b-935c-4bbe-a8e9-315b0d19cd7c",
   "metadata": {},
   "outputs": [
    {
     "name": "stdout",
     "output_type": "stream",
     "text": [
      "Error al obtener la información. Código: 403\n"
     ]
    }
   ],
   "source": [
    "url_base = \"https://www.portaltransparencia.cl/PortalPdT/directorio-de-organismos-regulados/\"\n",
    "codigo_organismo = \"MU130\"\n",
    "\n",
    "# Petición a la URL\n",
    "response = requests.get(url_base + \"?org=\" + codigo_organismo)\n",
    "\n",
    "# Verificación de éxito\n",
    "if response.status_code == 200:\n",
    "    # Parseo del HTML\n",
    "    soup = BeautifulSoup(response.content, \"html.parser\")\n",
    "\n",
    "    # Extracción de información\n",
    "    nombre_organismo = soup.find(\"h1\", class_=\"titulo-principal\").text.strip()\n",
    "    sectores_regulados = [sector.text.strip() for sector in soup.find_all(\"span\", class_=\"sector-regulado\")]\n",
    "    informacion_adicional = soup.find(\"div\", class_=\"informacion-adicional\").text.strip()\n",
    "\n",
    "    # Impresión de resultados\n",
    "    print(\"Nombre del Organismo:\", nombre_organismo)\n",
    "    print(\"Sectores Regulados:\", sectores_regulados)\n",
    "    print(\"Información Adicional:\", informacion_adicional)\n",
    "else:\n",
    "    print(\"Error al obtener la información. Código:\", response.status_code)"
   ]
  },
  {
   "cell_type": "code",
   "execution_count": null,
   "id": "cbd85a4c-51a6-4796-9b24-1de28ed59eb1",
   "metadata": {},
   "outputs": [],
   "source": []
  }
 ],
 "metadata": {
  "kernelspec": {
   "display_name": "Python 3 (ipykernel)",
   "language": "python",
   "name": "python3"
  },
  "language_info": {
   "codemirror_mode": {
    "name": "ipython",
    "version": 3
   },
   "file_extension": ".py",
   "mimetype": "text/x-python",
   "name": "python",
   "nbconvert_exporter": "python",
   "pygments_lexer": "ipython3",
   "version": "3.11.7"
  }
 },
 "nbformat": 4,
 "nbformat_minor": 5
}
