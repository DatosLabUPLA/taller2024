{
 "cells": [
  {
   "cell_type": "code",
   "execution_count": null,
   "id": "54ddfa22-85ba-43cb-ba44-b2dfd198a204",
   "metadata": {},
   "outputs": [],
   "source": [
    "import pandas as pd\n",
    "import requests\n",
    "from bs4 import BeautifulSoup\n",
    "from datetime import datetime\n",
    "import os\n",
    "now = datetime.now()\n",
    "\n",
    "# Extracción del HTML de la pagina con request\n",
    "url = 'https://www.t13.cl/etiqueta/region-metropolitana'\n",
    "resultado = requests.get(url)\n",
    "contenido = resultado.text\n",
    "soup = BeautifulSoup(contenido, 'html.parser')\n",
    "#soup = BeautifulSoup(contenido, 'lxml')\n",
    "#print(soup.prettify())\n",
    "\n",
    "lista_url = []\n",
    "datos = pd.DataFrame(columns=['Titulo', 'Autores', 'Resumen', 'Fecha', 'Etiquetas', 'URL'])\n",
    "# Extracción de url de todas la noticias más recientes de la RM\n",
    "for i in soup.find_all('a', href=True):\n",
    "    if i['href'].startswith('https://www.t13.cl/noticia/'): # Extraer solo los url de las noticias (Evitando CSS, templates, img, etc.)\n",
    "        if i['href'] not in lista_url: # Evitar url duplicados\n",
    "            lista_url.append(i['href'])\n",
    "            resultado = requests.get(i['href'])\n",
    "            contenido = resultado.text\n",
    "            soup = BeautifulSoup(contenido, 'html.parser')\n",
    "            #soup = BeautifulSoup(contenido, 'lxml')\n",
    "            titulo = soup.find('h1')\n",
    "            autores = soup.find('div', class_='autor')\n",
    "            resumen = soup.find('div', class_='bajada')\n",
    "            fecha = soup.find('time', class_='fecha')\n",
    "            etiquetas_temp1 = soup.find('div', class_='articulo-categorias')\n",
    "            etiquetas_temp2 = etiquetas_temp1.find_all('a')\n",
    "            etiquetas = [etiqueta.text.strip() for etiqueta in etiquetas_temp2]\n",
    "            noticia = [titulo.get_text(strip=True), autores.get_text(strip=True), resumen.get_text(strip=True), fecha.text, etiquetas, i['href']]\n",
    "            datos.loc[len(datos)] = noticia\n",
    "\n",
    "# Crear directorios si no existen\n",
    "fechaActual = now.strftime('%Y%m%d') # Formato AAMMDD\n",
    "try:\n",
    "    os.makedirs(f'DATA/{fechaActual}')\n",
    "except FileExistsError:\n",
    "    pass\n",
    "# Exportar DataFrame a CSV\n",
    "with open(f'DATA/{fechaActual}/noticias.csv', 'w', newline='') as csvfile:\n",
    "    datos.to_csv(csvfile, index=False)\n",
    "\n",
    "# Archivo .log\n",
    "with open('registro.log', 'a') as archivo_log:\n",
    "    archivo_log.write(f'{str(now)} - {len(lista_url)} Noticias extraidas con exito - La información se extrajo del sitio web: https://www.t13.cl/etiqueta/region-metropolitana\\n')\n",
    "\n",
    "print('Fin del proceso')\n",
    "print('Total de noticias extraídas: %s' % len(lista_url))"
   ]
  },
  {
   "cell_type": "code",
   "execution_count": null,
   "id": "35cb0c03-ab7f-449f-b583-0a7def75e20e",
   "metadata": {},
   "outputs": [],
   "source": []
  }
 ],
 "metadata": {
  "kernelspec": {
   "display_name": "Python 3 (ipykernel)",
   "language": "python",
   "name": "python3"
  },
  "language_info": {
   "codemirror_mode": {
    "name": "ipython",
    "version": 3
   },
   "file_extension": ".py",
   "mimetype": "text/x-python",
   "name": "python",
   "nbconvert_exporter": "python",
   "pygments_lexer": "ipython3",
   "version": "3.11.7"
  }
 },
 "nbformat": 4,
 "nbformat_minor": 5
}
