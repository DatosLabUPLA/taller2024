{
 "cells": [
  {
   "cell_type": "code",
   "execution_count": null,
   "id": "044242dd-7c34-46cd-8abb-cacf67833f8b",
   "metadata": {},
   "outputs": [],
   "source": [
    "import requests\n",
    "from bs4 import BeautifulSoup\n",
    "from datetime import datetime\n",
    "now = datetime.now()"
   ]
  },
  {
   "cell_type": "code",
   "execution_count": null,
   "id": "54ddfa22-85ba-43cb-ba44-b2dfd198a204",
   "metadata": {},
   "outputs": [],
   "source": [
    "# Función para extraer información histórica\n",
    "def obtener_informacion_historica(url):\n",
    "    response = requests.get(url)\n",
    "    soup = BeautifulSoup(response.content, 'html.parser')\n",
    "    \n",
    "    \n",
    "    \n",
    "    return datos_historicos\n",
    "\n",
    "# Definir URLs y ejecutar función\n",
    "url = 'https://www.t13.cl/etiqueta/region-metropolitana'\n",
    "datos = obtener_informacion_historica(url)\n",
    "\n",
    "# Archivo .csv\n",
    "fecha = str(now.year)+str(now.month)+str(now.day)\n",
    "with open(f'{'DATA/'+fecha+'/data.csv'}', 'w', newline='') as csvfile:\n",
    "    writer = csv.writer(csvfile)\n",
    "    writer.writerow(datos)\n",
    "\n",
    "# Archivo .log\n",
    "with open(\"registro.log\", \"a\") as archivo_log:\n",
    "    archivo_log.write(f\"{str(now)+' - Se extrajo la información del sitio web: '+str(url)}\\n\")"
   ]
  },
  {
   "cell_type": "code",
   "execution_count": null,
   "id": "1b73a2e4-6a66-4cfc-bbb6-21d19463d372",
   "metadata": {},
   "outputs": [],
   "source": []
  }
 ],
 "metadata": {
  "kernelspec": {
   "display_name": "Python 3 (ipykernel)",
   "language": "python",
   "name": "python3"
  },
  "language_info": {
   "codemirror_mode": {
    "name": "ipython",
    "version": 3
   },
   "file_extension": ".py",
   "mimetype": "text/x-python",
   "name": "python",
   "nbconvert_exporter": "python",
   "pygments_lexer": "ipython3",
   "version": "3.11.7"
  }
 },
 "nbformat": 4,
 "nbformat_minor": 5
}
