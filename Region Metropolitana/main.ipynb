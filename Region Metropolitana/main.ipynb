{
 "cells": [
  {
   "cell_type": "code",
   "execution_count": null,
   "id": "54ddfa22-85ba-43cb-ba44-b2dfd198a204",
   "metadata": {},
   "outputs": [],
   "source": [
    "import pandas as pd\n",
    "import requests\n",
    "from bs4 import BeautifulSoup\n",
    "from datetime import datetime\n",
    "now = datetime.now()\n",
    "\n",
    "#municipalidades = ['MU034', 'MU035', 'MU062', 'MU082', 'MU089', 'MU109', 'MU111', 'MU117', 'MU120', 'MU121', 'MU124', 'MU125', 'MU135', 'MU144', 'MU145', 'MU161', 'MU163', 'MU186', 'MU205', 'MU212', 'MU228', 'MU231', 'MU250', 'MU257', 'MU263', 'MU265', 'MU281', 'MU294', 'MU291', 'MU308', 'MU173', 'MU167', 'MU073', 'MU002', 'MU311', 'MU113', 'MU297', 'MU193', 'MU084', 'MU022', 'MU319', 'MU232', 'MU221', 'MU292', 'MU057', 'MU132', 'MU197', 'MU014', 'MU211', 'MU341', 'MU301', 'MU146']\n",
    "\n",
    "# Extracción del HTML de la pagina con request\n",
    "url = 'https://www.t13.cl/etiqueta/region-metropolitana'\n",
    "resultado = requests.get(url)\n",
    "contenido = resultado.text\n",
    "\n",
    "#soup = BeautifulSoup(contenido, 'html.parser')\n",
    "soup = BeautifulSoup(contenido, 'lxml')\n",
    "#print(soup.prettify())\n",
    "\n",
    "cont = 1\n",
    "lista_url = []\n",
    "datos = pd.DataFrame(columns=['Titulo', 'Autor', 'Resumen', 'Fecha', 'Etiquetas', 'URL'])\n",
    "# Extracción de url de todas la noticias más recientes de la RM\n",
    "for i in soup.find_all('a', href=True):\n",
    "    if i['href'].startswith('https://www.t13.cl/noticia/'): # Extraer solo los url de las noticias (Evitando CSS, templates, img, etc.)\n",
    "        if i['href'] not in lista_url: # Evitar url duplicados\n",
    "            lista_url.append(i['href'])\n",
    "            resultado = requests.get(i['href'])\n",
    "            contenido = resultado.text\n",
    "            #soup = BeautifulSoup(contenido, 'html.parser')\n",
    "            soup = BeautifulSoup(contenido, 'lxml')\n",
    "            titulo = soup.find('h1')\n",
    "            autor = soup.find('div', class_=\"autor\")\n",
    "            resumen = soup.find('div', class_=\"bajada\")\n",
    "            fecha = soup.find('time', class_=\"fecha\")\n",
    "            etiquetas = soup.find('div', class_=\"articulo-categorias\")\n",
    "            print()\n",
    "            cont+=1\n",
    "\n",
    "# Archivo .csv\n",
    "#fecha = str(now.year)+str(now.month)+str(now.day)\n",
    "#with open(f'{'DATA/'+fecha+'/data.csv'}', 'w', newline='') as csvfile:\n",
    "#    writer = csv.writer(csvfile)\n",
    "#    writer.writerow(datos)\n",
    "\n",
    "# Archivo .log\n",
    "#url = 'https://www.portaltransparencia.cl'\n",
    "#with open(\"registro.log\", \"a\") as archivo_log:\n",
    "#    archivo_log.write(f\"{str(now)+' - Se extrajo la información del sitio web: https://www.t13.cl/etiqueta/region-metropolitana'}\\n\")"
   ]
  },
  {
   "cell_type": "code",
   "execution_count": null,
   "id": "35cb0c03-ab7f-449f-b583-0a7def75e20e",
   "metadata": {},
   "outputs": [],
   "source": []
  }
 ],
 "metadata": {
  "kernelspec": {
   "display_name": "Python 3 (ipykernel)",
   "language": "python",
   "name": "python3"
  },
  "language_info": {
   "codemirror_mode": {
    "name": "ipython",
    "version": 3
   },
   "file_extension": ".py",
   "mimetype": "text/x-python",
   "name": "python",
   "nbconvert_exporter": "python",
   "pygments_lexer": "ipython3",
   "version": "3.11.7"
  }
 },
 "nbformat": 4,
 "nbformat_minor": 5
}
